{
 "cells": [
  {
   "cell_type": "code",
   "execution_count": 25,
   "id": "2e877aed",
   "metadata": {},
   "outputs": [],
   "source": [
    "import seaborn as sns\n",
    "import numpy as np\n",
    "import pandas as pd\n",
    "from matplotlib import pyplot as plt\n",
    "stress=pd.read_csv(r\"C:\\Users\\DURGA BHAVANI\\Downloads\\Stress-Lysis1.csv\")"
   ]
  },
  {
   "cell_type": "code",
   "execution_count": 26,
   "id": "31ae6874",
   "metadata": {},
   "outputs": [
    {
     "name": "stdout",
     "output_type": "stream",
     "text": [
      "      Humidity  Temperature  Step count  Stress Level\n",
      "0        21.33        90.33         123             1\n",
      "1        21.41        90.41          93             1\n",
      "2        27.12        96.12         196             2\n",
      "3        27.64        96.64         177             2\n",
      "4        10.87        79.87          87             0\n",
      "...        ...          ...         ...           ...\n",
      "1997     21.82        90.82          96             1\n",
      "1998     10.45        79.45          45             0\n",
      "1999     27.22        96.22         135             2\n",
      "2000     12.46        81.46          64             0\n",
      "2001     16.87        85.87          50             1\n",
      "\n",
      "[2002 rows x 4 columns]\n"
     ]
    }
   ],
   "source": [
    "df=pd.DataFrame(stress)\n",
    "print(df)"
   ]
  },
  {
   "cell_type": "code",
   "execution_count": 30,
   "id": "8db197ef",
   "metadata": {},
   "outputs": [
    {
     "data": {
      "text/plain": [
       "30.0"
      ]
     },
     "execution_count": 30,
     "metadata": {},
     "output_type": "execute_result"
    }
   ],
   "source": [
    "a = df[\"Humidity\"].max()\n",
    "a"
   ]
  },
  {
   "cell_type": "code",
   "execution_count": 3,
   "id": "87d3ffee",
   "metadata": {},
   "outputs": [
    {
     "name": "stdout",
     "output_type": "stream",
     "text": [
      "   Humidity  Temperature  Step count  Stress Level\n",
      "0     21.33        90.33         123             1\n",
      "1     21.41        90.41          93             1\n",
      "2     27.12        96.12         196             2\n",
      "3     27.64        96.64         177             2\n",
      "4     10.87        79.87          87             0\n"
     ]
    }
   ],
   "source": [
    "print(df.head())"
   ]
  },
  {
   "cell_type": "code",
   "execution_count": 4,
   "id": "f0cad44b",
   "metadata": {},
   "outputs": [
    {
     "data": {
      "text/html": [
       "<div>\n",
       "<style scoped>\n",
       "    .dataframe tbody tr th:only-of-type {\n",
       "        vertical-align: middle;\n",
       "    }\n",
       "\n",
       "    .dataframe tbody tr th {\n",
       "        vertical-align: top;\n",
       "    }\n",
       "\n",
       "    .dataframe thead th {\n",
       "        text-align: right;\n",
       "    }\n",
       "</style>\n",
       "<table border=\"1\" class=\"dataframe\">\n",
       "  <thead>\n",
       "    <tr style=\"text-align: right;\">\n",
       "      <th></th>\n",
       "      <th>Humidity</th>\n",
       "      <th>Temperature</th>\n",
       "      <th>Step count</th>\n",
       "      <th>Stress Level</th>\n",
       "    </tr>\n",
       "  </thead>\n",
       "  <tbody>\n",
       "    <tr>\n",
       "      <th>Humidity</th>\n",
       "      <td>1.000000</td>\n",
       "      <td>0.967813</td>\n",
       "      <td>0.870216</td>\n",
       "      <td>0.935237</td>\n",
       "    </tr>\n",
       "    <tr>\n",
       "      <th>Temperature</th>\n",
       "      <td>0.967813</td>\n",
       "      <td>1.000000</td>\n",
       "      <td>0.834964</td>\n",
       "      <td>0.895000</td>\n",
       "    </tr>\n",
       "    <tr>\n",
       "      <th>Step count</th>\n",
       "      <td>0.870216</td>\n",
       "      <td>0.834964</td>\n",
       "      <td>1.000000</td>\n",
       "      <td>0.832812</td>\n",
       "    </tr>\n",
       "    <tr>\n",
       "      <th>Stress Level</th>\n",
       "      <td>0.935237</td>\n",
       "      <td>0.895000</td>\n",
       "      <td>0.832812</td>\n",
       "      <td>1.000000</td>\n",
       "    </tr>\n",
       "  </tbody>\n",
       "</table>\n",
       "</div>"
      ],
      "text/plain": [
       "              Humidity  Temperature  Step count  Stress Level\n",
       "Humidity      1.000000     0.967813    0.870216      0.935237\n",
       "Temperature   0.967813     1.000000    0.834964      0.895000\n",
       "Step count    0.870216     0.834964    1.000000      0.832812\n",
       "Stress Level  0.935237     0.895000    0.832812      1.000000"
      ]
     },
     "execution_count": 4,
     "metadata": {},
     "output_type": "execute_result"
    }
   ],
   "source": [
    "df.corr()"
   ]
  },
  {
   "cell_type": "code",
   "execution_count": 5,
   "id": "4154bc02",
   "metadata": {},
   "outputs": [
    {
     "data": {
      "text/plain": [
       "(array([  1.,   0.,   0.,   0.,   0.,   0.,   0.,  20., 991., 990.]),\n",
       " array([ 0. ,  9.9, 19.8, 29.7, 39.6, 49.5, 59.4, 69.3, 79.2, 89.1, 99. ]),\n",
       " <BarContainer object of 10 artists>)"
      ]
     },
     "execution_count": 5,
     "metadata": {},
     "output_type": "execute_result"
    },
    {
     "data": {
      "image/png": "[encoded data removed]",
      "text/plain": [
       "<Figure size 432x288 with 1 Axes>"
      ]
     },
     "metadata": {
      "needs_background": "light"
     },
     "output_type": "display_data"
    }
   ],
   "source": [
    "import matplotlib.pyplot as plt\n",
    "plt.hist(df['Temperature'] )"
   ]
  },
  {
   "cell_type": "code",
   "execution_count": 6,
   "id": "8ee9399c",
   "metadata": {},
   "outputs": [
    {
     "data": {
      "text/html": [
       "<div>\n",
       "<style scoped>\n",
       "    .dataframe tbody tr th:only-of-type {\n",
       "        vertical-align: middle;\n",
       "    }\n",
       "\n",
       "    .dataframe tbody tr th {\n",
       "        vertical-align: top;\n",
       "    }\n",
       "\n",
       "    .dataframe thead th {\n",
       "        text-align: right;\n",
       "    }\n",
       "</style>\n",
       "<table border=\"1\" class=\"dataframe\">\n",
       "  <thead>\n",
       "    <tr style=\"text-align: right;\">\n",
       "      <th></th>\n",
       "      <th>Humidity</th>\n",
       "      <th>Temperature</th>\n",
       "      <th>Step count</th>\n",
       "      <th>Stress Level</th>\n",
       "    </tr>\n",
       "  </thead>\n",
       "  <tbody>\n",
       "    <tr>\n",
       "      <th>966</th>\n",
       "      <td>0.0</td>\n",
       "      <td>0.0</td>\n",
       "      <td>0</td>\n",
       "      <td>0</td>\n",
       "    </tr>\n",
       "  </tbody>\n",
       "</table>\n",
       "</div>"
      ],
      "text/plain": [
       "     Humidity  Temperature  Step count  Stress Level\n",
       "966       0.0          0.0           0             0"
      ]
     },
     "execution_count": 6,
     "metadata": {},
     "output_type": "execute_result"
    }
   ],
   "source": [
    "df[df.Temperature==0]"
   ]
  },
  {
   "cell_type": "code",
   "execution_count": 7,
   "id": "2bba41bf",
   "metadata": {},
   "outputs": [
    {
     "name": "stdout",
     "output_type": "stream",
     "text": [
      "               count        mean        std  min      25%      50%       75%  \\\n",
      "Humidity      2002.0   19.990010   5.793657  0.0  14.9925   19.995   24.9975   \n",
      "Temperature   2002.0   88.955544   6.109272  0.0  83.9925   88.995   93.9975   \n",
      "Step count    2002.0  100.091409  58.211449  0.0  49.2500  101.000  150.0000   \n",
      "Stress Level  2002.0    1.103896   0.771296  0.0   0.0000    1.000    2.0000   \n",
      "\n",
      "                max  \n",
      "Humidity       30.0  \n",
      "Temperature    99.0  \n",
      "Step count    200.0  \n",
      "Stress Level    2.0  \n"
     ]
    }
   ],
   "source": [
    "print(df.describe().T)"
   ]
  },
  {
   "cell_type": "code",
   "execution_count": 8,
   "id": "fcafc276",
   "metadata": {},
   "outputs": [
    {
     "name": "stdout",
     "output_type": "stream",
     "text": [
      "Humidity        0\n",
      "Temperature     0\n",
      "Step count      0\n",
      "Stress Level    0\n",
      "dtype: int64\n"
     ]
    }
   ],
   "source": [
    "print(df.isnull().sum())"
   ]
  },
  {
   "cell_type": "code",
   "execution_count": 9,
   "id": "2359d768",
   "metadata": {},
   "outputs": [
    {
     "name": "stdout",
     "output_type": "stream",
     "text": [
      "Index(['Humidity', 'Temperature', 'Step count', 'Stress Level'], dtype='object')\n"
     ]
    }
   ],
   "source": [
    "print(df.columns)"
   ]
  },
  {
   "cell_type": "code",
   "execution_count": 10,
   "id": "d2152f12",
   "metadata": {},
   "outputs": [
    {
     "name": "stdout",
     "output_type": "stream",
     "text": [
      "(2002, 4)\n"
     ]
    }
   ],
   "source": [
    "print(df.shape)"
   ]
  },
  {
   "cell_type": "code",
   "execution_count": 11,
   "id": "bbbe68df",
   "metadata": {},
   "outputs": [
    {
     "name": "stdout",
     "output_type": "stream",
     "text": [
      "      Humidity  Temperature\n",
      "0        21.33        90.33\n",
      "1        21.41        90.41\n",
      "2        27.12        96.12\n",
      "3        27.64        96.64\n",
      "4        10.87        79.87\n",
      "...        ...          ...\n",
      "1997     21.82        90.82\n",
      "1998     10.45        79.45\n",
      "1999     27.22        96.22\n",
      "2000     12.46        81.46\n",
      "2001     16.87        85.87\n",
      "\n",
      "[2002 rows x 2 columns]\n",
      "0       1\n",
      "1       1\n",
      "2       2\n",
      "3       2\n",
      "4       0\n",
      "       ..\n",
      "1997    1\n",
      "1998    0\n",
      "1999    2\n",
      "2000    0\n",
      "2001    1\n",
      "Name: Stress Level, Length: 2002, dtype: int64\n"
     ]
    }
   ],
   "source": [
    "x=df[[\"Humidity\",\"Temperature\"]]\n",
    "y=df[\"Stress Level\"]\n",
    "print(x)\n",
    "print(y)"
   ]
  },
  {
   "cell_type": "code",
   "execution_count": 21,
   "id": "4840f47f",
   "metadata": {},
   "outputs": [
    {
     "data": {
      "text/plain": [
       "actual       2\n",
       "predicted    2\n",
       "dtype: int64"
      ]
     },
     "execution_count": 21,
     "metadata": {},
     "output_type": "execute_result"
    }
   ],
   "source": [
    "df.max()"
   ]
  },
  {
   "cell_type": "code",
   "execution_count": 12,
   "id": "3d585744",
   "metadata": {},
   "outputs": [],
   "source": [
    "from sklearn.model_selection import train_test_split\n",
    "x_train,x_test,y_train,y_test=train_test_split(x,y,test_size=0.3,random_state=0)"
   ]
  },
  {
   "cell_type": "code",
   "execution_count": 13,
   "id": "82fecbc6",
   "metadata": {},
   "outputs": [
    {
     "data": {
      "text/html": [
       "<style>#sk-container-id-1 {color: black;background-color: white;}#sk-container-id-1 pre{padding: 0;}#sk-container-id-1 div.sk-toggleable {background-color: white;}#sk-container-id-1 label.sk-toggleable__label {cursor: pointer;display: block;width: 100%;margin-bottom: 0;padding: 0.3em;box-sizing: border-box;text-align: center;}#sk-container-id-1 label.sk-toggleable__label-arrow:before {content: \"▸\";float: left;margin-right: 0.25em;color: #696969;}#sk-container-id-1 label.sk-toggleable__label-arrow:hover:before {color: black;}#sk-container-id-1 div.sk-estimator:hover label.sk-toggleable__label-arrow:before {color: black;}#sk-container-id-1 div.sk-toggleable__content {max-height: 0;max-width: 0;overflow: hidden;text-align: left;background-color: #f0f8ff;}#sk-container-id-1 div.sk-toggleable__content pre {margin: 0.2em;color: black;border-radius: 0.25em;background-color: #f0f8ff;}#sk-container-id-1 input.sk-toggleable__control:checked~div.sk-toggleable__content {max-height: 200px;max-width: 100%;overflow: auto;}#sk-container-id-1 input.sk-toggleable__control:checked~label.sk-toggleable__label-arrow:before {content: \"▾\";}#sk-container-id-1 div.sk-estimator input.sk-toggleable__control:checked~label.sk-toggleable__label {background-color: #d4ebff;}#sk-container-id-1 div.sk-label input.sk-toggleable__control:checked~label.sk-toggleable__label {background-color: #d4ebff;}#sk-container-id-1 input.sk-hidden--visually {border: 0;clip: rect(1px 1px 1px 1px);clip: rect(1px, 1px, 1px, 1px);height: 1px;margin: -1px;overflow: hidden;padding: 0;position: absolute;width: 1px;}#sk-container-id-1 div.sk-estimator {font-family: monospace;background-color: #f0f8ff;border: 1px dotted black;border-radius: 0.25em;box-sizing: border-box;margin-bottom: 0.5em;}#sk-container-id-1 div.sk-estimator:hover {background-color: #d4ebff;}#sk-container-id-1 div.sk-parallel-item::after {content: \"\";width: 100%;border-bottom: 1px solid gray;flex-grow: 1;}#sk-container-id-1 div.sk-label:hover label.sk-toggleable__label {background-color: #d4ebff;}#sk-container-id-1 div.sk-serial::before {content: \"\";position: absolute;border-left: 1px solid gray;box-sizing: border-box;top: 0;bottom: 0;left: 50%;z-index: 0;}#sk-container-id-1 div.sk-serial {display: flex;flex-direction: column;align-items: center;background-color: white;padding-right: 0.2em;padding-left: 0.2em;position: relative;}#sk-container-id-1 div.sk-item {position: relative;z-index: 1;}#sk-container-id-1 div.sk-parallel {display: flex;align-items: stretch;justify-content: center;background-color: white;position: relative;}#sk-container-id-1 div.sk-item::before, #sk-container-id-1 div.sk-parallel-item::before {content: \"\";position: absolute;border-left: 1px solid gray;box-sizing: border-box;top: 0;bottom: 0;left: 50%;z-index: -1;}#sk-container-id-1 div.sk-parallel-item {display: flex;flex-direction: column;z-index: 1;position: relative;background-color: white;}#sk-container-id-1 div.sk-parallel-item:first-child::after {align-self: flex-end;width: 50%;}#sk-container-id-1 div.sk-parallel-item:last-child::after {align-self: flex-start;width: 50%;}#sk-container-id-1 div.sk-parallel-item:only-child::after {width: 0;}#sk-container-id-1 div.sk-dashed-wrapped {border: 1px dashed gray;margin: 0 0.4em 0.5em 0.4em;box-sizing: border-box;padding-bottom: 0.4em;background-color: white;}#sk-container-id-1 div.sk-label label {font-family: monospace;font-weight: bold;display: inline-block;line-height: 1.2em;}#sk-container-id-1 div.sk-label-container {text-align: center;}#sk-container-id-1 div.sk-container {/* jupyter's `normalize.less` sets `[hidden] { display: none; }` but bootstrap.min.css set `[hidden] { display: none !important; }` so we also need the `!important` here to be able to override the default hidden behavior on the sphinx rendered scikit-learn.org. See: https://github.com/scikit-learn/scikit-learn/issues/21755 */display: inline-block !important;position: relative;}#sk-container-id-1 div.sk-text-repr-fallback {display: none;}</style><div id=\"sk-container-id-1\" class=\"sk-top-container\"><div class=\"sk-text-repr-fallback\"><pre>DecisionTreeClassifier()</pre><b>In a Jupyter environment, please rerun this cell to show the HTML representation or trust the notebook. <br />On GitHub, the HTML representation is unable to render, please try loading this page with nbviewer.org.</b></div><div class=\"sk-container\" hidden><div class=\"sk-item\"><div class=\"sk-estimator sk-toggleable\"><input class=\"sk-toggleable__control sk-hidden--visually\" id=\"sk-estimator-id-1\" type=\"checkbox\" checked><label for=\"sk-estimator-id-1\" class=\"sk-toggleable__label sk-toggleable__label-arrow\">DecisionTreeClassifier</label><div class=\"sk-toggleable__content\"><pre>DecisionTreeClassifier()</pre></div></div></div></div></div>"
      ],
      "text/plain": [
       "DecisionTreeClassifier()"
      ]
     },
     "execution_count": 13,
     "metadata": {},
     "output_type": "execute_result"
    }
   ],
   "source": [
    "from sklearn.tree import DecisionTreeClassifier\n",
    "reg=DecisionTreeClassifier()\n",
    "reg.fit(x_train,y_train)"
   ]
  },
  {
   "cell_type": "code",
   "execution_count": 14,
   "id": "1abd4cf0",
   "metadata": {},
   "outputs": [
    {
     "name": "stdout",
     "output_type": "stream",
     "text": [
      "[1 1 2 2 1 2 1 2 2 2 2 2 0 2 1 0 0 0 0 2 1 1 2 0 1 2 2 1 1 1 2 1 1 2 1 1 1\n",
      " 2 0 1 1 2 1 2 2 1 0 1 2 2 2 1 1 2 0 1 2 2 2 0 1 1 1 0 2 0 2 2 2 2 1 2 2 1\n",
      " 1 1 2 1 2 0 0 2 0 2 1 1 1 0 0 1 1 1 1 0 1 1 1 0 1 2 2 2 1 1 0 0 1 1 2 0 2\n",
      " 1 2 2 2 2 2 2 2 2 2 2 1 2 0 2 2 2 2 0 1 1 1 1 2 0 1 2 0 2 0 1 1 1 2 2 2 0\n",
      " 1 2 0 1 1 2 0 1 0 1 1 1 0 2 1 2 2 0 2 1 1 2 2 2 2 0 2 2 0 0 1 0 1 1 1 1 2\n",
      " 1 2 0 0 2 1 0 2 2 2 1 2 2 0 1 2 1 2 1 0 1 1 2 2 2 1 1 0 2 2 0 0 1 1 1 1 2\n",
      " 2 1 1 1 1 2 0 1 1 1 1 0 1 0 1 0 0 1 1 0 1 2 2 2 1 0 1 2 0 2 1 2 0 0 2 1 1\n",
      " 1 0 0 2 2 2 1 2 1 1 1 1 1 1 0 1 2 1 1 1 2 1 2 2 1 0 2 2 2 0 2 2 1 2 2 0 0\n",
      " 0 0 0 2 0 1 1 1 2 2 0 2 1 0 2 2 1 1 1 2 2 1 1 1 0 1 2 2 0 1 2 0 0 0 0 2 2\n",
      " 2 1 1 1 1 2 0 0 2 2 1 0 0 1 0 2 1 1 1 2 2 2 2 1 1 2 0 1 1 2 2 0 0 1 0 1 1\n",
      " 2 2 2 1 1 2 0 1 2 1 2 1 1 1 1 2 1 0 1 2 2 2 0 0 2 1 1 0 1 1 1 2 0 2 1 0 0\n",
      " 0 0 1 0 2 1 1 0 1 1 1 2 0 2 0 0 1 1 1 1 2 2 2 2 0 0 1 0 2 2 0 1 1 2 0 0 1\n",
      " 0 0 0 0 1 2 2 2 1 1 1 0 0 2 2 2 0 1 1 2 0 0 0 2 0 2 1 1 1 1 2 0 2 1 2 1 1\n",
      " 2 1 1 2 1 1 1 2 2 2 0 2 1 2 0 2 1 1 2 2 1 0 2 1 2 1 1 0 2 0 2 2 2 0 0 1 2\n",
      " 1 2 1 2 2 2 2 1 1 1 2 2 1 0 1 0 2 2 2 0 1 0 2 2 2 2 1 2 1 0 0 1 2 0 2 1 1\n",
      " 1 0 2 2 1 1 2 1 1 2 0 2 0 1 2 0 2 2 0 2 1 2 1 2 0 2 0 2 1 1 1 1 0 2 2 0 0\n",
      " 2 2 1 1 1 1 0 1 1]\n",
      "      actual  predicted\n",
      "677        1          1\n",
      "980        1          1\n",
      "1240       2          2\n",
      "156        2          2\n",
      "522        1          1\n",
      "...      ...        ...\n",
      "974        1          1\n",
      "1896       1          1\n",
      "108        0          0\n",
      "799        1          1\n",
      "1550       1          1\n",
      "\n",
      "[601 rows x 2 columns]\n"
     ]
    }
   ],
   "source": [
    "y_pred=reg.predict(x_test)\n",
    "print(y_pred)\n",
    "df=pd.DataFrame({\"actual\":y_test,\"predicted\":y_pred})\n",
    "print(df)"
   ]
  },
  {
   "cell_type": "code",
   "execution_count": 15,
   "id": "63f822a2",
   "metadata": {},
   "outputs": [
    {
     "data": {
      "text/plain": [
       "1.0"
      ]
     },
     "execution_count": 15,
     "metadata": {},
     "output_type": "execute_result"
    }
   ],
   "source": [
    "from sklearn.metrics import accuracy_score\n",
    "accuracy_score(y_test,y_pred)"
   ]
  },
  {
   "cell_type": "code",
   "execution_count": 16,
   "id": "68d723b1",
   "metadata": {},
   "outputs": [],
   "source": [
    "data = pd.DataFrame({'original':y_test , 'predict':y_pred})"
   ]
  },
  {
   "cell_type": "code",
   "execution_count": 17,
   "id": "82dade0a",
   "metadata": {},
   "outputs": [
    {
     "data": {
      "text/html": [
       "<div>\n",
       "<style scoped>\n",
       "    .dataframe tbody tr th:only-of-type {\n",
       "        vertical-align: middle;\n",
       "    }\n",
       "\n",
       "    .dataframe tbody tr th {\n",
       "        vertical-align: top;\n",
       "    }\n",
       "\n",
       "    .dataframe thead th {\n",
       "        text-align: right;\n",
       "    }\n",
       "</style>\n",
       "<table border=\"1\" class=\"dataframe\">\n",
       "  <thead>\n",
       "    <tr style=\"text-align: right;\">\n",
       "      <th></th>\n",
       "      <th>original</th>\n",
       "      <th>predict</th>\n",
       "    </tr>\n",
       "  </thead>\n",
       "  <tbody>\n",
       "  </tbody>\n",
       "</table>\n",
       "</div>"
      ],
      "text/plain": [
       "Empty DataFrame\n",
       "Columns: [original, predict]\n",
       "Index: []"
      ]
     },
     "execution_count": 17,
     "metadata": {},
     "output_type": "execute_result"
    }
   ],
   "source": [
    "data[data['original'] != data['predict']]"
   ]
  },
  {
   "cell_type": "code",
   "execution_count": 31,
   "id": "c72760b3",
   "metadata": {},
   "outputs": [
    {
     "name": "stdout",
     "output_type": "stream",
     "text": [
      "This may exist in some extensive cases\n"
     ]
    }
   ],
   "source": [
    "t=np.array([[345 ,244 ]])\n",
    "if(t[0,0]<0 and t[0,1]<0):\n",
    "    print(\"not a person\")\n",
    "elif(t[0,0]>35,t[0,1]>120):\n",
    "    print(\"This may exist in some extensive cases\")\n",
    "else:\n",
    "    predictions=reg.predict(t)\n",
    "    print(\"stress of the person is: {}\".format(predictions))"
   ]
  },
  {
   "cell_type": "code",
   "execution_count": null,
   "id": "c2e40cd1",
   "metadata": {},
   "outputs": [],
   "source": []
  }
 ],
 "metadata": {
  "kernelspec": {
   "display_name": "Python 3 (ipykernel)",
   "language": "python",
   "name": "python3"
  },
  "language_info": {
   "codemirror_mode": {
    "name": "ipython",
    "version": 3
   },
   "file_extension": ".py",
   "mimetype": "text/x-python",
   "name": "python",
   "nbconvert_exporter": "python",
   "pygments_lexer": "ipython3",
   "version": "3.9.12"
  }
 },
 "nbformat": 4,
 "nbformat_minor": 5
}
